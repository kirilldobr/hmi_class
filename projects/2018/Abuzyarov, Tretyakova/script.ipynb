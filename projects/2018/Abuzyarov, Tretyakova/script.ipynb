{
 "cells": [
  {
   "cell_type": "code",
   "execution_count": 22,
   "metadata": {
    "collapsed": true
   },
   "outputs": [],
   "source": [
    "import pandas \n",
    "import math\n",
    "from scipy import stats\n",
    "import statsmodels.formula.api as smfa\n",
    "import numpy as np\n",
    "import matplotlib.pyplot as pl"
   ]
  },
  {
   "cell_type": "code",
   "execution_count": 23,
   "metadata": {
    "collapsed": true
   },
   "outputs": [],
   "source": [
    "def tstat(row1, row2):\n",
    "    x1 = row1.sum()/len(row2)\n",
    "    x2 = row2.sum()/len(row2)\n",
    "\n",
    "    s1 = 0\n",
    "    for el in row1:\n",
    "        s1 += (el-x1)**2\n",
    "    s1 /= len(row1)-1\n",
    "\n",
    "\n",
    "    s2 = 0\n",
    "    for el in row2:\n",
    "        s2 += (el-x2)**2\n",
    "    s2 /= len(row2)-1\n",
    "\n",
    "    t = (x2-x1)/((s1/len(row1)+(s2/len(row2)))**(1/2))\n",
    "    t = abs(t)\n",
    "    \n",
    "    o1 = math.sqrt(s1)\n",
    "    o2 = math.sqrt(s2)\n",
    "    \n",
    "    print(f\"M1 = {x1}\")\n",
    "    print(f\"M2 = {x2}\")\n",
    "    print(f\"omega1 = {o1}\")\n",
    "    print(f\"omega2 = {o2}\")\n",
    "    \n",
    "    return t"
   ]
  },
  {
   "cell_type": "code",
   "execution_count": 24,
   "metadata": {},
   "outputs": [
    {
     "data": {
      "text/html": [
       "<div>\n",
       "<style>\n",
       "    .dataframe thead tr:only-child th {\n",
       "        text-align: right;\n",
       "    }\n",
       "\n",
       "    .dataframe thead th {\n",
       "        text-align: left;\n",
       "    }\n",
       "\n",
       "    .dataframe tbody tr th {\n",
       "        vertical-align: top;\n",
       "    }\n",
       "</style>\n",
       "<table border=\"1\" class=\"dataframe\">\n",
       "  <thead>\n",
       "    <tr style=\"text-align: right;\">\n",
       "      <th></th>\n",
       "      <th>tdesktop</th>\n",
       "      <th>tconsole</th>\n",
       "      <th>expdesktop</th>\n",
       "      <th>expconsole</th>\n",
       "    </tr>\n",
       "  </thead>\n",
       "  <tbody>\n",
       "    <tr>\n",
       "      <th>0</th>\n",
       "      <td>348</td>\n",
       "      <td>335</td>\n",
       "      <td>2</td>\n",
       "      <td>3</td>\n",
       "    </tr>\n",
       "    <tr>\n",
       "      <th>1</th>\n",
       "      <td>587</td>\n",
       "      <td>919</td>\n",
       "      <td>1</td>\n",
       "      <td>2</td>\n",
       "    </tr>\n",
       "    <tr>\n",
       "      <th>2</th>\n",
       "      <td>450</td>\n",
       "      <td>993</td>\n",
       "      <td>2</td>\n",
       "      <td>1</td>\n",
       "    </tr>\n",
       "    <tr>\n",
       "      <th>3</th>\n",
       "      <td>452</td>\n",
       "      <td>921</td>\n",
       "      <td>2</td>\n",
       "      <td>3</td>\n",
       "    </tr>\n",
       "    <tr>\n",
       "      <th>4</th>\n",
       "      <td>456</td>\n",
       "      <td>440</td>\n",
       "      <td>2</td>\n",
       "      <td>3</td>\n",
       "    </tr>\n",
       "    <tr>\n",
       "      <th>5</th>\n",
       "      <td>863</td>\n",
       "      <td>613</td>\n",
       "      <td>2</td>\n",
       "      <td>2</td>\n",
       "    </tr>\n",
       "    <tr>\n",
       "      <th>6</th>\n",
       "      <td>978</td>\n",
       "      <td>858</td>\n",
       "      <td>1</td>\n",
       "      <td>3</td>\n",
       "    </tr>\n",
       "    <tr>\n",
       "      <th>7</th>\n",
       "      <td>420</td>\n",
       "      <td>840</td>\n",
       "      <td>2</td>\n",
       "      <td>2</td>\n",
       "    </tr>\n",
       "    <tr>\n",
       "      <th>8</th>\n",
       "      <td>832</td>\n",
       "      <td>1401</td>\n",
       "      <td>2</td>\n",
       "      <td>1</td>\n",
       "    </tr>\n",
       "    <tr>\n",
       "      <th>9</th>\n",
       "      <td>493</td>\n",
       "      <td>340</td>\n",
       "      <td>2</td>\n",
       "      <td>3</td>\n",
       "    </tr>\n",
       "    <tr>\n",
       "      <th>10</th>\n",
       "      <td>420</td>\n",
       "      <td>261</td>\n",
       "      <td>1</td>\n",
       "      <td>3</td>\n",
       "    </tr>\n",
       "    <tr>\n",
       "      <th>11</th>\n",
       "      <td>332</td>\n",
       "      <td>276</td>\n",
       "      <td>1</td>\n",
       "      <td>3</td>\n",
       "    </tr>\n",
       "  </tbody>\n",
       "</table>\n",
       "</div>"
      ],
      "text/plain": [
       "    tdesktop  tconsole  expdesktop  expconsole\n",
       "0        348       335           2           3\n",
       "1        587       919           1           2\n",
       "2        450       993           2           1\n",
       "3        452       921           2           3\n",
       "4        456       440           2           3\n",
       "5        863       613           2           2\n",
       "6        978       858           1           3\n",
       "7        420       840           2           2\n",
       "8        832      1401           2           1\n",
       "9        493       340           2           3\n",
       "10       420       261           1           3\n",
       "11       332       276           1           3"
      ]
     },
     "execution_count": 24,
     "metadata": {},
     "output_type": "execute_result"
    }
   ],
   "source": [
    "df = pandas.read_excel('dataset.xlsx')\n",
    "# uncomment next line to get alternative dataset\n",
    "# df = df[df['expconsole']-df['expdesktop'] < 2]\n",
    "df"
   ]
  },
  {
   "cell_type": "code",
   "execution_count": 25,
   "metadata": {},
   "outputs": [
    {
     "name": "stdout",
     "output_type": "stream",
     "text": [
      "M1 = 552.5833333333334\n",
      "M2 = 683.0833333333334\n",
      "omega1 = 216.5395023098697\n",
      "omega2 = 360.0092065321091\n"
     ]
    },
    {
     "data": {
      "text/plain": [
       "1.0760531414398307"
      ]
     },
     "execution_count": 25,
     "metadata": {},
     "output_type": "execute_result"
    }
   ],
   "source": [
    "test = stats.ttest_ind(df['tdesktop'], df['tconsole'])\n",
    "tstat(df['tdesktop'], df['tconsole'])"
   ]
  },
  {
   "cell_type": "code",
   "execution_count": 26,
   "metadata": {},
   "outputs": [
    {
     "name": "stdout",
     "output_type": "stream",
     "text": [
      "Уровень значимости = 0.05\n",
      "Квантиль распределения стьюдента = 2.0738730679040147\n",
      "t = 1.0760531414398307\n",
      "Нулевая гипотеза принимается\n",
      "\n",
      "Нулевая гипотеза отвергается на уровне значимости большем 0.293562912282017\n",
      "Нулевая гипотеза принимается на уровне значимости меньшем 0.293562912282017\n"
     ]
    }
   ],
   "source": [
    "trust = 0.05\n",
    "kvant = stats.t.ppf(1-trust/2, len(df)*2-2)\n",
    "t = abs(test.statistic)\n",
    "p = test.pvalue\n",
    "print(f\"Уровень значимости = {trust}\")\n",
    "print(f\"Квантиль распределения стьюдента = {kvant}\")\n",
    "print(f\"t = {t}\")\n",
    "print(\"Нулевая гипотеза отвергается\" if t > kvant else \"Нулевая гипотеза принимается\")\n",
    "print()\n",
    "print(f\"Нулевая гипотеза отвергается на уровне значимости большем {p}\")\n",
    "print(f\"Нулевая гипотеза принимается на уровне значимости меньшем {p}\")#:.07f"
   ]
  },
  {
   "cell_type": "code",
   "execution_count": 27,
   "metadata": {
    "collapsed": true
   },
   "outputs": [],
   "source": [
    "desktop = sorted(df['tdesktop'])\n",
    "console = sorted(df['tconsole'])\n",
    "x = range(len(df['tdesktop']))"
   ]
  },
  {
   "cell_type": "code",
   "execution_count": 28,
   "metadata": {},
   "outputs": [
    {
     "data": {
      "image/png": "[encoded data removed]",
      "text/plain": [
       "<Figure size 432x288 with 1 Axes>"
      ]
     },
     "metadata": {},
     "output_type": "display_data"
    }
   ],
   "source": [
    "pl.plot(x, desktop, label = \"desktop\")\n",
    "pl.plot(x, console, label = \"console\")\n",
    "pl.legend(loc = 2, fontsize = 12)\n",
    "pl.xlabel(\"Index\")\n",
    "pl.ylabel(\"Time\")\n",
    "pl.show()"
   ]
  },
  {
   "cell_type": "code",
   "execution_count": 29,
   "metadata": {},
   "outputs": [
    {
     "data": {
      "image/png": "[encoded data removed]",
      "text/plain": [
       "<Figure size 432x288 with 1 Axes>"
      ]
     },
     "metadata": {},
     "output_type": "display_data"
    }
   ],
   "source": [
    "df.boxplot(column=['tdesktop', 'tconsole'])\n",
    "pl.ylabel(\"Time\")\n",
    "pl.show()"
   ]
  },
  {
   "cell_type": "code",
   "execution_count": 30,
   "metadata": {},
   "outputs": [
    {
     "data": {
      "text/html": [
       "<div>\n",
       "<style>\n",
       "    .dataframe thead tr:only-child th {\n",
       "        text-align: right;\n",
       "    }\n",
       "\n",
       "    .dataframe thead th {\n",
       "        text-align: left;\n",
       "    }\n",
       "\n",
       "    .dataframe tbody tr th {\n",
       "        vertical-align: top;\n",
       "    }\n",
       "</style>\n",
       "<table border=\"1\" class=\"dataframe\">\n",
       "  <thead>\n",
       "    <tr style=\"text-align: right;\">\n",
       "      <th></th>\n",
       "      <th>tdesktop</th>\n",
       "      <th>tconsole</th>\n",
       "      <th>expdesktop</th>\n",
       "      <th>expconsole</th>\n",
       "    </tr>\n",
       "  </thead>\n",
       "  <tbody>\n",
       "    <tr>\n",
       "      <th>tdesktop</th>\n",
       "      <td>1.000000</td>\n",
       "      <td>0.519798</td>\n",
       "      <td>-0.090952</td>\n",
       "      <td>-0.299620</td>\n",
       "    </tr>\n",
       "    <tr>\n",
       "      <th>tconsole</th>\n",
       "      <td>0.519798</td>\n",
       "      <td>1.000000</td>\n",
       "      <td>0.214550</td>\n",
       "      <td>-0.757407</td>\n",
       "    </tr>\n",
       "    <tr>\n",
       "      <th>expdesktop</th>\n",
       "      <td>-0.090952</td>\n",
       "      <td>0.214550</td>\n",
       "      <td>1.000000</td>\n",
       "      <td>-0.310460</td>\n",
       "    </tr>\n",
       "    <tr>\n",
       "      <th>expconsole</th>\n",
       "      <td>-0.299620</td>\n",
       "      <td>-0.757407</td>\n",
       "      <td>-0.310460</td>\n",
       "      <td>1.000000</td>\n",
       "    </tr>\n",
       "  </tbody>\n",
       "</table>\n",
       "</div>"
      ],
      "text/plain": [
       "            tdesktop  tconsole  expdesktop  expconsole\n",
       "tdesktop    1.000000  0.519798   -0.090952   -0.299620\n",
       "tconsole    0.519798  1.000000    0.214550   -0.757407\n",
       "expdesktop -0.090952  0.214550    1.000000   -0.310460\n",
       "expconsole -0.299620 -0.757407   -0.310460    1.000000"
      ]
     },
     "execution_count": 30,
     "metadata": {},
     "output_type": "execute_result"
    }
   ],
   "source": [
    "df.corr()"
   ]
  }
 ],
 "metadata": {
  "kernelspec": {
   "display_name": "Python 3",
   "language": "python",
   "name": "python3"
  },
  "language_info": {
   "codemirror_mode": {
    "name": "ipython",
    "version": 3
   },
   "file_extension": ".py",
   "mimetype": "text/x-python",
   "name": "python",
   "nbconvert_exporter": "python",
   "pygments_lexer": "ipython3",
   "version": "3.6.5"
  }
 },
 "nbformat": 4,
 "nbformat_minor": 2
}
